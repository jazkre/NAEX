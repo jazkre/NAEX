{
  "nbformat": 4,
  "nbformat_minor": 0,
  "metadata": {
    "colab": {
      "private_outputs": true,
      "provenance": [],
      "include_colab_link": true
    },
    "kernelspec": {
      "name": "ir",
      "display_name": "R"
    },
    "language_info": {
      "name": "R"
    }
  },
  "cells": [
    {
      "cell_type": "markdown",
      "metadata": {
        "id": "view-in-github",
        "colab_type": "text"
      },
      "source": [
        "<a href=\"https://colab.research.google.com/github/jazkre/NAEX/blob/main/code/01NAEX_Exercise_05_R_solution.ipynb\" target=\"_parent\"><img src=\"https://colab.research.google.com/assets/colab-badge.svg\" alt=\"Open In Colab\"/></a>"
      ]
    },
    {
      "cell_type": "markdown",
      "source": [
        "\n",
        "# O1NAEX Exercise 05"
      ],
      "metadata": {
        "id": "SJRUeUJPrezp"
      }
    },
    {
      "cell_type": "markdown",
      "source": [
        "J.Kreanová"
      ],
      "metadata": {
        "id": "PxOMrF22ClkO"
      }
    },
    {
      "cell_type": "code",
      "source": [
        "cat(system('sudo apt-get install -y gmp', intern=TRUE), sep = \"\\n\")\n",
        "cat(system('sudo apt-get install -y partitions', intern=TRUE), sep = \"\\n\")\n",
        "cat(system('sudo apt-get install -y DoE.base', intern=TRUE), sep = \"\\n\")\n",
        "\n",
        "list_of_packages <- c(\"tidyverse\",\"MASS\",\"FrF2\",\"pid\",\"rsm\") # \"agricolae\",\"nortest\",\"lattice\",\"pwr\",\n",
        "missing_packages <- list_of_packages[!(list_of_packages %in% installed.packages()[,\"Package\"])]\n",
        "missing_packages\n",
        "if(length(missing_packages)) install.packages(missing_packages)\n",
        "lapply(list_of_packages, library, character.only = TRUE)\n"
      ],
      "metadata": {
        "id": "crbwkzr9I90A"
      },
      "execution_count": null,
      "outputs": []
    },
    {
      "cell_type": "code",
      "source": [
        "tibble::tibble(\n",
        "  Package = names(installed.packages()[,3]),\n",
        "  Version = unname(installed.packages()[,3])\n",
        ")"
      ],
      "metadata": {
        "id": "mFJEGP4iPatd"
      },
      "execution_count": null,
      "outputs": []
    },
    {
      "cell_type": "markdown",
      "source": [
        "##\tProblem 6.1\n",
        "from the chapter 6, D. C. Montgomery DAoE - 8. edition.\n",
        "\n",
        "An engineer is interested in the effects of cutting\n",
        "speed (A), tool geometry (B), and cutting angle (C) on the life\n",
        "(in hours) of a machine tool. Two levels of each factor are\n",
        "chosen, and three replicates of a 23 factorial design are run.\n",
        "The results are as follows:"
      ],
      "metadata": {
        "id": "_lYQT0wrrb3V"
      }
    },
    {
      "cell_type": "code",
      "source": [
        "df61 <- read.table(\"https://raw.githubusercontent.com/francji1/01NAEX/main/data/Problem_6_1.txt\",header=TRUE,sep=\";\")\n",
        "head(df61)"
      ],
      "metadata": {
        "id": "DfQaZt8HzOXa"
      },
      "execution_count": null,
      "outputs": []
    },
    {
      "cell_type": "markdown",
      "source": [
        "\n",
        "1. Estimate the factor effects. Which effects appear to be\n",
        "large?\n",
        "2. Use the analysis of variance to confirm your conclusions\n",
        "for part (a).\n",
        "3. Write down a regression model for predicting tool life\n",
        "(in hours) based on the results of this experiment.\n",
        "4. Analyze the residuals. Are there any obvious problems?\n",
        "5. On the basis of an analysis of main effect and interaction\n",
        "plots, what coded factor levels of A, B, and C\n",
        "would you recommend using?\n",
        "6. Reconsider task 3. Use the regression\n",
        "model to generate response surface and contour plots of the\n",
        "tool life response. Interpret these plots. Do they provide insight\n",
        "regarding the desirable operating conditions for this process?\n",
        "7. Find the standard error of the factor effects and\n",
        "approximate 95 percent confidence limits for the factor effects. Do the results of this analysis agree with the conclusions from the analysis of variance?\n",
        "\n"
      ],
      "metadata": {
        "id": "dbEJmeh3zNWJ"
      }
    },
    {
      "cell_type": "markdown",
      "source": [
        "# 0 .Data Preprocessing"
      ],
      "metadata": {
        "id": "rARIUqgDWqXt"
      }
    },
    {
      "cell_type": "code",
      "source": [
        "df61"
      ],
      "metadata": {
        "id": "fxD9HMoPrbHg"
      },
      "execution_count": null,
      "outputs": []
    },
    {
      "cell_type": "code",
      "source": [
        "str(df61)"
      ],
      "metadata": {
        "id": "pE5TJpklrbPN"
      },
      "execution_count": null,
      "outputs": []
    },
    {
      "cell_type": "code",
      "source": [
        "df61$A=factor(df61$CuttingSpeed)\n",
        "df61$B=factor(df61$ToolGeometry)\n",
        "df61$C=factor(df61$CuttingAngle)"
      ],
      "metadata": {
        "id": "6hp8_DcBKGes"
      },
      "execution_count": null,
      "outputs": []
    },
    {
      "cell_type": "markdown",
      "source": [
        "### $2^3$ factorial design  \n",
        "\n",
        "**A** - Cutting Speed\n",
        "\n",
        "**B** - Tool Geometry\n",
        "\n",
        "**C** - Cutting Angle\n",
        "\n"
      ],
      "metadata": {
        "id": "p8H0ufPtMIlI"
      }
    },
    {
      "cell_type": "code",
      "source": [
        "df61=df61[, c('A','B','C','LifeHours')]\n",
        "head(df61)"
      ],
      "metadata": {
        "id": "ouBQR-fVKGbV"
      },
      "execution_count": null,
      "outputs": []
    },
    {
      "cell_type": "code",
      "source": [
        "tb<- df61 %>%\n",
        "  group_by(A, B, C) %>%\n",
        "  summarise(RI = LifeHours[1], RII = ifelse(n() >= 2, LifeHours[2], NA), RIII = ifelse(n() == 3, LifeHours[3], NA)) %>%\n",
        "  ungroup()"
      ],
      "metadata": {
        "id": "Pe5miuooNIeA"
      },
      "execution_count": null,
      "outputs": []
    },
    {
      "cell_type": "code",
      "source": [
        "tb$Total=tb$RI+tb$RII+tb$RIII\n",
        "tb$notation<-c('(1)','c','b','bc','a','ac','ab','abc')\n",
        "tb"
      ],
      "metadata": {
        "id": "PHv6LMP8PUZS"
      },
      "execution_count": null,
      "outputs": []
    },
    {
      "cell_type": "code",
      "source": [],
      "metadata": {
        "id": "lzdn4TQ7wuH-"
      },
      "execution_count": null,
      "outputs": []
    },
    {
      "cell_type": "code",
      "source": [
        "df <- as.data.frame(tb)\n",
        "df\n",
        "#str(df)"
      ],
      "metadata": {
        "id": "_iS_SvbIRks_"
      },
      "execution_count": null,
      "outputs": []
    },
    {
      "cell_type": "markdown",
      "source": [
        "# 1. Factor Effects\n",
        "Estimate the factor effects. Which effects appear to be large?"
      ],
      "metadata": {
        "id": "HtJ2hHizL91h"
      }
    },
    {
      "cell_type": "markdown",
      "source": [
        "main effect of A: $A = \\frac{1}{4n} (a + ab + ac + abc − (1) − b − c − bc)$\n",
        "\n",
        "main effect of B: $B =  \\frac{1}{4n} (b + ab + bc + abc − (1) − a − c − ac)$\n",
        "\n",
        "main effect of C: $C = \\frac{1}{4n} (c + ac + bc + abc − (1) − a − b − ab)$\n",
        "\n",
        "interaction of AB: $AB =  \\frac{1}{4n}(abc + ab + c + (1) − a − b − ac − bc)$\n",
        "\n",
        "interaction of AC: $AC =  \\frac{1}{4n} (abc + ac + b + (1) − a − c − ab − bc)$\n",
        "\n",
        "interaction of BC: $BC =  \\frac{1}{4n} (abc + bc + a + (1) − b − b − ab − ac)$\n",
        "\n",
        "interaction of ABC: $ABC =  \\frac{1}{4n}(abc + a + b + c − ab − ac − bc − (1))$"
      ],
      "metadata": {
        "id": "R9E_esGEMmlD"
      }
    },
    {
      "cell_type": "code",
      "source": [
        "n=3 #replikacie\n",
        "a <- df$Total[df$notation == 'a']\n",
        "b <- df$Total[df$notation == 'b']\n",
        "c <- df$Total[df$notation == 'c']\n",
        "ab <- df$Total[df$notation == 'ab']\n",
        "bc <- df$Total[df$notation == 'bc']\n",
        "ac <- df$Total[df$notation == 'ac']\n",
        "abc <- df$Total[df$notation == 'abc']\n",
        "e <- df$Total[df$notation == '(1)']"
      ],
      "metadata": {
        "id": "qOUm7F1SKGY8"
      },
      "execution_count": null,
      "outputs": []
    },
    {
      "cell_type": "code",
      "source": [
        "df$effect[df$notation=='a']=(a + ab + ac + abc - e - b - c - bc)/(4*n)\n",
        "df$effect[df$notation=='b']=(b + ab +bc + abc -e -a -c -ac)/(4*n)\n",
        "df$effect[df$notation=='c']=(c + ac +bc +abc -e -a -b -ab)/(4*n)\n",
        "df$effect[df$notation=='ab']=(abc + ab +c +e -a -b-ac-bc)/(4*n)\n",
        "df$effect[df$notation=='ac']=(abc +ac + b +e -a -c -ab -bc)/(4*n)\n",
        "df$effect[df$notation=='bc']=(abc +bc +a +e -b -c -ab -ac)/(4*n)\n",
        "df$effect[df$notation=='abc']=(abc +a +b +c -ab -ac -bc -e)/(4*n)"
      ],
      "metadata": {
        "id": "MHrVRtk8KGWb"
      },
      "execution_count": null,
      "outputs": []
    },
    {
      "cell_type": "code",
      "source": [
        "df"
      ],
      "metadata": {
        "id": "2F26bckauxvB"
      },
      "execution_count": null,
      "outputs": []
    },
    {
      "cell_type": "markdown",
      "source": [
        "Large appearing effects are for Tool geometry B (11.33) and for a Speed-Angle iteration AC (-8.83).\n",
        "\n",
        "On contrary Cutting speed A effect appears to be small in comparison to other (0.33)."
      ],
      "metadata": {
        "id": "u36hMY-uk8rB"
      }
    },
    {
      "cell_type": "markdown",
      "source": [
        "# 2. ANOVA\n",
        "Use the analysis of variance to confirm your conclusions for part (a)."
      ],
      "metadata": {
        "id": "nnC24T9jmiNE"
      }
    },
    {
      "cell_type": "code",
      "source": [
        "summary(aov(LifeHours ~ A*B*C, df61))"
      ],
      "metadata": {
        "id": "6pqj5QF5abpZ"
      },
      "execution_count": null,
      "outputs": []
    },
    {
      "cell_type": "markdown",
      "source": [
        "From Anova, we can confirm significance of B,C and AC interaction on a significance level 0.01.\n",
        "\n",
        "We can reduce the model to A,B,C,AC. A is included to keep hierarchy."
      ],
      "metadata": {
        "id": "fW7b88X2ohiv"
      }
    },
    {
      "cell_type": "code",
      "source": [
        "aov(LifeHours ~ A+B+C +A:C, df61)"
      ],
      "metadata": {
        "id": "-0AqEdmyp8Qo"
      },
      "execution_count": null,
      "outputs": []
    },
    {
      "cell_type": "code",
      "source": [
        "summary(aov(LifeHours ~ A+B+C +A:C, df61))"
      ],
      "metadata": {
        "id": "PzxgnGKWgv6Z"
      },
      "execution_count": null,
      "outputs": []
    },
    {
      "cell_type": "markdown",
      "source": [
        "Significance: B,C,AC at 0.01 (1%)"
      ],
      "metadata": {
        "id": "qZ2pJzyqqWYV"
      }
    },
    {
      "cell_type": "markdown",
      "source": [
        "# 3. Regression model\n",
        "Write down a regression model for predicting tool life (in hours) based on the results of this experiment."
      ],
      "metadata": {
        "id": "wGSEcSTiqk3w"
      }
    },
    {
      "cell_type": "markdown",
      "source": [
        "-model without distinguishing replication order"
      ],
      "metadata": {
        "id": "w-k-WyH3XbcO"
      }
    },
    {
      "cell_type": "code",
      "source": [
        "m1=lm(LifeHours ~ A+B+C +A:C, df61)\n",
        "summary(m1)\n",
        "\n",
        "#summary(lm(lh~A*C+B,rs))"
      ],
      "metadata": {
        "id": "pMy7sHlTqkTA"
      },
      "execution_count": null,
      "outputs": []
    },
    {
      "cell_type": "markdown",
      "source": [
        "$y_{ijk} =27.167 + 9.167 x_{A} +11.333 x_{b} + 15.667 x_{c} -17.667x_{A}x_{c}$"
      ],
      "metadata": {
        "id": "PbxkE1r5rVzu"
      }
    },
    {
      "cell_type": "code",
      "source": [
        "par(mfrow = c(2, 2))\n",
        "plot(lm(LifeHours ~ A+B+C +A:C, df61))\n",
        "par(mfrow = c(1, 1))"
      ],
      "metadata": {
        "id": "HwhgYCYg3dvB"
      },
      "execution_count": null,
      "outputs": []
    },
    {
      "cell_type": "markdown",
      "source": [
        "-- model that takes into account a form of data measurement by replications:\n",
        "\n",
        "We wil use [FrF2() ](https://www.r-bloggers.com/2011/05/fractional-factorial-designs-using-frf2/) function to generate apropriate class"
      ],
      "metadata": {
        "id": "_k3bLShhXl3y"
      }
    },
    {
      "cell_type": "code",
      "source": [
        "#extract Life Hours\n",
        "lh<-c(tb$RI,tb$RII,tb$RIII)\n",
        "lh\n",
        "\n",
        "rs=rbind(df,df,df)\n",
        "rs=rs[,c('A','B','C')]\n",
        "rs <- rs %>%\n",
        "  mutate(Block = case_when(\n",
        "    row_number() <= 8 ~ '.1',\n",
        "    row_number() <= 16 ~ '.2',\n",
        "    TRUE ~ '.3'\n",
        "  ))\n",
        "rs$lh=lh\n",
        "#rs"
      ],
      "metadata": {
        "id": "mnh9ciF15Xy3"
      },
      "execution_count": null,
      "outputs": []
    },
    {
      "cell_type": "code",
      "source": [
        "mFrF2 <-  FrF2(2^n, n, replications = 3, randomize = FALSE,factor.names = c(\"A\", \"B\", \"C\"))\n",
        "#we need to set design matrix thatcorresponds with our response: life hours\n",
        "mFrF2$A<-rs$A\n",
        "mFrF2$B<-rs$B\n",
        "mFrF2$C<-rs$C\n",
        "mFrF2 <- add.response(mFrF2,response=lh)\n",
        "mFrF2\n",
        "MEPlot(mFrF2)\n",
        "IAPlot(mFrF2)"
      ],
      "metadata": {
        "id": "uprX5DMF0acf"
      },
      "execution_count": null,
      "outputs": []
    },
    {
      "cell_type": "code",
      "source": [
        "summary(lm(lh~A+B+C+A:C,mFrF2))"
      ],
      "metadata": {
        "id": "0jCA0KM5qkNR"
      },
      "execution_count": null,
      "outputs": []
    },
    {
      "cell_type": "markdown",
      "source": [
        "$y_{ijk} =40.83 + 3.42 x_{A} +5.67 x_{b} + 0.17 x_{c} -4.2x_{A}x_{c}$"
      ],
      "metadata": {
        "id": "abpes58J3zuu"
      }
    },
    {
      "cell_type": "markdown",
      "source": [
        "# 4. Residuals\n",
        "Analyze the residuals. Are there any obvious problems?"
      ],
      "metadata": {
        "id": "EjfD-nLz4T2r"
      }
    },
    {
      "cell_type": "code",
      "source": [
        "par(mfrow = c(2, 2))\n",
        "plot(lm(lh~A+ B +C +A:C,mFrF2))\n",
        "par(mfrow = c(1, 1))"
      ],
      "metadata": {
        "id": "BOreZKTVqkKp"
      },
      "execution_count": null,
      "outputs": []
    },
    {
      "cell_type": "markdown",
      "source": [
        "Residuals do not depict any obvious problems"
      ],
      "metadata": {
        "id": "6gjqLVUD4qEx"
      }
    },
    {
      "cell_type": "code",
      "source": [
        "qqplot(DanielPlot(mFrF2,alpha=0.1)$x,DanielPlot(mFrF2)$y)\n"
      ],
      "metadata": {
        "id": "SrYpePf6fBKY"
      },
      "execution_count": null,
      "outputs": []
    },
    {
      "cell_type": "markdown",
      "source": [
        "# 5. Interaction plots\n",
        "On the basis of an analysis of main effect and interaction plots, what coded factor levels of A, B, and C would you recommend using?"
      ],
      "metadata": {
        "id": "dvrvHx7N5pSm"
      }
    },
    {
      "cell_type": "markdown",
      "source": [
        "Due to decreasing effect of interaction AC, the AC plot would be most revealing. The plot shows that in high level of C and low level A the life hours are maximized. (Low level of Cutting Speed and High level of Cutting angle)\n",
        "\n",
        "B increases lihe hours due to its positive effect."
      ],
      "metadata": {
        "id": "n54vUHr2-FUc"
      }
    },
    {
      "cell_type": "code",
      "source": [
        "colors <- c(\"red\", \"black\")\n",
        "\n",
        "interaction.plot(mFrF2$A,mFrF2$C,lh,type = \"l\", col = colors, pch = 19,\n",
        "                 xlab = \"C Cutting Angle\", ylab = \"life hours\", main = \"Interaction Plot\")\n",
        "legend(\"topright\", legend = levels(mFrF2$C), fill = colors,title=\"A factor\")\n",
        "interaction.plot(mFrF2$C,mFrF2$A,lh, col = colors, pch = 19,\n",
        "                 xlab = \"A Cutting Speed\", ylab = \"life hours\", main = \"Interaction Plot\")\n",
        "legend(\"topright\", legend = levels(mFrF2$A), fill = colors, title=\"C factor\")\n",
        "\n",
        "interaction.plot(mFrF2$B,mFrF2$C,lh, col = colors, pch = 19,\n",
        "                 xlab = \"B Tool Geometry\", ylab = \"life hours\", main = \"Interaction Plot\")\n",
        "legend(\"topright\", legend = levels(mFrF2$C), fill = colors, title=\"C factor\")\n",
        "\n",
        "attach(mFrF2)"
      ],
      "metadata": {
        "id": "1F3Aq-zq4Tka"
      },
      "execution_count": null,
      "outputs": []
    },
    {
      "cell_type": "markdown",
      "source": [
        "# 6. Response Surface, Contour plot\n",
        "Reconsider task 3. Use the regression model to generate response surface and contour plots of the tool life response. Interpret these plots. Do they provide insight regarding the desirable operating conditions for this process?"
      ],
      "metadata": {
        "id": "xHepNUQvMm76"
      }
    },
    {
      "cell_type": "code",
      "source": [
        "#to construct these plots in terms of the natural factor levels\n",
        "A.num <- as.numeric(as.character(A))\n",
        "B.num <- as.numeric(as.character(B))\n",
        "C.num <- as.numeric(as.character(C))\n",
        "\n",
        "df61.num <- as.data.frame(cbind(lh,A.num,B.num,C.num))\n",
        "str(df61.num)"
      ],
      "metadata": {
        "id": "hynxZW9S4Tg9"
      },
      "execution_count": null,
      "outputs": []
    },
    {
      "cell_type": "code",
      "source": [
        "m_num<- lm(lh~A.num*C.num+B.num)\n",
        "summary(m_num)"
      ],
      "metadata": {
        "id": "qPDHsvlM4TeR"
      },
      "execution_count": null,
      "outputs": []
    },
    {
      "cell_type": "markdown",
      "source": [
        "$y_{ijk} =40.83 + 3.42 x_{A} +5.67 x_{b} + 0.17 x_{c} -4.2x_{A}x_{c}$"
      ],
      "metadata": {
        "id": "pISxIQ5MaeiT"
      }
    },
    {
      "cell_type": "markdown",
      "source": [
        "Model has not changed due to fact, that original level values count +1 or -1 naturally. We would see a change with different values of levels."
      ],
      "metadata": {
        "id": "MTy0i9ZuapsR"
      }
    },
    {
      "cell_type": "code",
      "source": [
        "#contourPlot(lsmodel,\n",
        "#            xlab=attr(lsmodel$terms,'term.labels')[1],\n",
        "#            ylab=attr(lsmodel$terms,'term.labels')[2],\n",
        "#            main=\"Contour plot\",\n",
        "#            N=25,\n",
        "#            xlim=c(-3.2, 3.2),\n",
        "#            ylim=c(-3.2, 3.2),\n",
        "#            colour.function=terrain.colors)"
      ],
      "metadata": {
        "id": "qwgBs2tf542_"
      },
      "execution_count": null,
      "outputs": []
    },
    {
      "cell_type": "code",
      "source": [
        "contourPlot(m_num,\n",
        "            xlab=\"A.num\",ylab=\"C.num\",\n",
        "            main=\"Contour plot of LifeHours\",\n",
        "            xlim=c(-1.1, 1.1),\n",
        "            ylim=c(-1.1, 1.1),\n",
        "            colour.function=terrain.colors)"
      ],
      "metadata": {
        "id": "jDGl_qK354zf"
      },
      "execution_count": null,
      "outputs": []
    },
    {
      "cell_type": "code",
      "source": [
        "rsm_abc<-rsm(lh~FO(A.num,C.num)+TWI(A.num,C.num), data=df61.num)"
      ],
      "metadata": {
        "id": "r7S8RLuYck_8"
      },
      "execution_count": null,
      "outputs": []
    },
    {
      "cell_type": "code",
      "source": [
        "persp(rsm_abc, A.num~C.num, zlab = \"lh\", main=\"Response surface?\")"
      ],
      "metadata": {
        "id": "aoRXJY7l9h5j"
      },
      "execution_count": null,
      "outputs": []
    },
    {
      "cell_type": "markdown",
      "source": [
        "Plots show dependance of Life Hours to A and C. These plots allow us to show the lifehours based on AC interaction. We can observe high point of LH."
      ],
      "metadata": {
        "id": "ExnmRIpg_fqf"
      }
    },
    {
      "cell_type": "markdown",
      "source": [
        "# 7. Standard error of factor effects\n",
        " Find the standard error of the factor effects and approximate 95 percent confidence limits for the factor effects. Do the results of this analysis agree with the conclusions from the analysis of variance?"
      ],
      "metadata": {
        "id": "4Ls1f6ZaWbdi"
      }
    },
    {
      "cell_type": "markdown",
      "source": [
        "Standard error of model coefficients:\n",
        "\n",
        "$se( \\hat{β}) =\\sqrt{\\frac{\\sigma^{2}}{2n^{k}}}=\\sqrt{\\frac{MS_{E}}{2n^{k}}}=1.38$\n",
        "\n",
        "The standard errors of all model coefficients are equal because\n",
        "the design is orthogonal."
      ],
      "metadata": {
        "id": "mGlc2mW2n1qL"
      }
    },
    {
      "cell_type": "code",
      "source": [
        "summary(aov(lh~A+B+C+A:C))"
      ],
      "metadata": {
        "id": "zarSuTz_rHwJ"
      },
      "execution_count": null,
      "outputs": []
    },
    {
      "cell_type": "code",
      "source": [
        "MSe=summary(aov(lh~A+B+C+A:C))[[1]]$\"Mean Sq\"[5]\n",
        "se=sqrt(MSe/(2*2^3))\n",
        "se"
      ],
      "metadata": {
        "id": "btWm0cqNsDII"
      },
      "execution_count": null,
      "outputs": []
    },
    {
      "cell_type": "code",
      "source": [
        "summary(lm(lh~A+B+C+A:C))"
      ],
      "metadata": {
        "id": "Av7fZg8UwLvv"
      },
      "execution_count": null,
      "outputs": []
    },
    {
      "cell_type": "markdown",
      "source": [
        "Confidence interval on model coefficients:\n",
        "\n",
        "$\\hat{β} − t_{α/2,df_{E}} se( \\hat{β}) ≤ β ≤ \\hat{β} + t_{α/2,df_{E}} se(\\hat{β})$\n",
        "\n"
      ],
      "metadata": {
        "id": "5qmCiKoWu8B9"
      }
    },
    {
      "cell_type": "code",
      "source": [
        "dfe=length(lh)-5\n",
        "shift=MSe* qt(0.975, df = dfe)\n",
        "\n",
        "#lm(lh~A+B+C+A:C)$coefficients\n",
        "\n",
        "lh.lm<-lm(lh~A+B+C+A:C)\n",
        "lh.CIl<-lh.lm$coefficients-shift\n",
        "lh.CIu<-lh.lm$coefficients+shift"
      ],
      "metadata": {
        "id": "iHkRv9zAu7ky"
      },
      "execution_count": null,
      "outputs": []
    },
    {
      "cell_type": "code",
      "source": [
        "#tibble(lh.lm$coefficients,lh.CIl,lh.CIu)\n"
      ],
      "metadata": {
        "id": "3J-EmhaF0N0r"
      },
      "execution_count": null,
      "outputs": []
    },
    {
      "cell_type": "markdown",
      "source": [
        "The estimated standard error would be found by replacing σ^2  by its estimate S^2 and taking the\n",
        "square root of this last expression:\n",
        "\n",
        "$se(Effect) = \\frac{2S}{n2^{k}}, S^{2}\\doteq MS_{E}$\n",
        "\n",
        "The 100(1 - α\t) percent confidence intervals on the effects are:\n",
        "\n",
        "$Effect \\pm t_{α/2,df_{E}} se( \\hat{β}) $"
      ],
      "metadata": {
        "id": "NLoI3JP62_eZ"
      }
    },
    {
      "cell_type": "code",
      "source": [
        "head(df)"
      ],
      "metadata": {
        "id": "rJ1ZvshG54xo"
      },
      "execution_count": null,
      "outputs": []
    },
    {
      "cell_type": "code",
      "source": [
        "es=2*sqrt(MSe)/sqrt(2*2^3)\n",
        "df$CI_l<-df$effect-es* qt(0.975, df = dfe)\n",
        "df$CI_u<-df$effect+es* qt(0.975, df = dfe)"
      ],
      "metadata": {
        "id": "Gu2Igtkk54u5"
      },
      "execution_count": null,
      "outputs": []
    },
    {
      "cell_type": "code",
      "source": [
        "df <-df %>%\n",
        "  mutate(signif_ef = ifelse(\n",
        "    (CI_l*CI_u)>0, '*', ''\n",
        "  ))\n",
        "  df"
      ],
      "metadata": {
        "id": "PVY_gPpr54sa"
      },
      "execution_count": null,
      "outputs": []
    },
    {
      "cell_type": "markdown",
      "source": [
        "As our previous analysis, confidence intervals for **Effects** of B,C and AC do not contain zero which means, the mentioned effects significant."
      ],
      "metadata": {
        "id": "MI8AkxSe55li"
      }
    }
  ]
}